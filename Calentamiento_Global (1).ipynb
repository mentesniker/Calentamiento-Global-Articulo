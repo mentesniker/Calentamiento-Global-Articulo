{
  "nbformat": 4,
  "nbformat_minor": 0,
  "metadata": {
    "colab": {
      "name": "Calentamiento Global.ipynb",
      "provenance": [],
      "collapsed_sections": []
    },
    "kernelspec": {
      "name": "python3",
      "display_name": "Python 3"
    }
  },
  "cells": [
    {
      "cell_type": "code",
      "metadata": {
        "id": "jiuwq5prhbpw"
      },
      "source": [
        "#Loading libraries\n",
        "import pandas as pd\n",
        "import numpy as np\n",
        "from sklearn import preprocessing\n",
        "from sklearn.preprocessing import StandardScaler\n",
        "from sklearn.preprocessing import MinMaxScaler\n",
        "from sklearn.neighbors import KNeighborsClassifier\n",
        "from sklearn.neighbors import KNeighborsRegressor\n",
        "from sklearn.metrics import confusion_matrix\n",
        "from sklearn.metrics import classification_report\n",
        "from sklearn.metrics import mean_squared_error \n",
        "from sklearn import decomposition\n",
        "from math import sqrt\n",
        "import matplotlib.pyplot as plt\n",
        "import seaborn as sns\n",
        "from sklearn import linear_model\n",
        "from sklearn.metrics import mean_squared_error, r2_score\n",
        "from sklearn.preprocessing import LabelEncoder\n",
        "from sklearn.model_selection import StratifiedShuffleSplit\n",
        "from sklearn.linear_model import LogisticRegression\n",
        "from sklearn.metrics import confusion_matrix, accuracy_score\n",
        "from sklearn.preprocessing import normalize\n",
        "from sklearn.impute import KNNImputer\n",
        "%matplotlib inline"
      ],
      "execution_count": 1,
      "outputs": []
    },
    {
      "cell_type": "markdown",
      "metadata": {
        "id": "kaFjgYx-jw1Z"
      },
      "source": [
        "### Primero importamos los datasets y realizamos una primera visualizacion."
      ]
    },
    {
      "cell_type": "code",
      "metadata": {
        "colab": {
          "base_uri": "https://localhost:8080/",
          "height": 1000
        },
        "id": "d4mXouOEhzEr",
        "outputId": "bbeda839-5d3e-413a-9b29-07a9d3fb5510"
      },
      "source": [
        "temperatura = pd.read_csv(\"temperature.csv\")\n",
        "temperatura = temperatura.set_index('Year')\n",
        "temperatura = temperatura.drop('Upper bound (95% CI)',1)\n",
        "temperatura = temperatura.drop('Entity',1)\n",
        "temperatura = temperatura.drop('Lower bound (95% CI)',1)\n",
        "temperatura"
      ],
      "execution_count": 2,
      "outputs": [
        {
          "output_type": "execute_result",
          "data": {
            "text/html": [
              "<div>\n",
              "<style scoped>\n",
              "    .dataframe tbody tr th:only-of-type {\n",
              "        vertical-align: middle;\n",
              "    }\n",
              "\n",
              "    .dataframe tbody tr th {\n",
              "        vertical-align: top;\n",
              "    }\n",
              "\n",
              "    .dataframe thead th {\n",
              "        text-align: right;\n",
              "    }\n",
              "</style>\n",
              "<table border=\"1\" class=\"dataframe\">\n",
              "  <thead>\n",
              "    <tr style=\"text-align: right;\">\n",
              "      <th></th>\n",
              "      <th>Median temperature anomaly from 1961-1990 average</th>\n",
              "    </tr>\n",
              "    <tr>\n",
              "      <th>Year</th>\n",
              "      <th></th>\n",
              "    </tr>\n",
              "  </thead>\n",
              "  <tbody>\n",
              "    <tr>\n",
              "      <th>1990</th>\n",
              "      <td>0.296</td>\n",
              "    </tr>\n",
              "    <tr>\n",
              "      <th>1991</th>\n",
              "      <td>0.254</td>\n",
              "    </tr>\n",
              "    <tr>\n",
              "      <th>1992</th>\n",
              "      <td>0.105</td>\n",
              "    </tr>\n",
              "    <tr>\n",
              "      <th>1993</th>\n",
              "      <td>0.148</td>\n",
              "    </tr>\n",
              "    <tr>\n",
              "      <th>1994</th>\n",
              "      <td>0.208</td>\n",
              "    </tr>\n",
              "    <tr>\n",
              "      <th>1995</th>\n",
              "      <td>0.325</td>\n",
              "    </tr>\n",
              "    <tr>\n",
              "      <th>1996</th>\n",
              "      <td>0.183</td>\n",
              "    </tr>\n",
              "    <tr>\n",
              "      <th>1997</th>\n",
              "      <td>0.390</td>\n",
              "    </tr>\n",
              "    <tr>\n",
              "      <th>1998</th>\n",
              "      <td>0.539</td>\n",
              "    </tr>\n",
              "    <tr>\n",
              "      <th>1999</th>\n",
              "      <td>0.306</td>\n",
              "    </tr>\n",
              "    <tr>\n",
              "      <th>2000</th>\n",
              "      <td>0.294</td>\n",
              "    </tr>\n",
              "    <tr>\n",
              "      <th>2001</th>\n",
              "      <td>0.441</td>\n",
              "    </tr>\n",
              "    <tr>\n",
              "      <th>2002</th>\n",
              "      <td>0.496</td>\n",
              "    </tr>\n",
              "    <tr>\n",
              "      <th>2003</th>\n",
              "      <td>0.505</td>\n",
              "    </tr>\n",
              "    <tr>\n",
              "      <th>2004</th>\n",
              "      <td>0.447</td>\n",
              "    </tr>\n",
              "    <tr>\n",
              "      <th>2005</th>\n",
              "      <td>0.545</td>\n",
              "    </tr>\n",
              "    <tr>\n",
              "      <th>2006</th>\n",
              "      <td>0.506</td>\n",
              "    </tr>\n",
              "    <tr>\n",
              "      <th>2007</th>\n",
              "      <td>0.491</td>\n",
              "    </tr>\n",
              "    <tr>\n",
              "      <th>2008</th>\n",
              "      <td>0.395</td>\n",
              "    </tr>\n",
              "    <tr>\n",
              "      <th>2009</th>\n",
              "      <td>0.506</td>\n",
              "    </tr>\n",
              "    <tr>\n",
              "      <th>2010</th>\n",
              "      <td>0.560</td>\n",
              "    </tr>\n",
              "    <tr>\n",
              "      <th>2011</th>\n",
              "      <td>0.425</td>\n",
              "    </tr>\n",
              "    <tr>\n",
              "      <th>2012</th>\n",
              "      <td>0.470</td>\n",
              "    </tr>\n",
              "    <tr>\n",
              "      <th>2013</th>\n",
              "      <td>0.514</td>\n",
              "    </tr>\n",
              "    <tr>\n",
              "      <th>2014</th>\n",
              "      <td>0.579</td>\n",
              "    </tr>\n",
              "    <tr>\n",
              "      <th>2015</th>\n",
              "      <td>0.763</td>\n",
              "    </tr>\n",
              "    <tr>\n",
              "      <th>2016</th>\n",
              "      <td>0.797</td>\n",
              "    </tr>\n",
              "    <tr>\n",
              "      <th>2017</th>\n",
              "      <td>0.677</td>\n",
              "    </tr>\n",
              "    <tr>\n",
              "      <th>2018</th>\n",
              "      <td>0.597</td>\n",
              "    </tr>\n",
              "    <tr>\n",
              "      <th>2019</th>\n",
              "      <td>0.736</td>\n",
              "    </tr>\n",
              "  </tbody>\n",
              "</table>\n",
              "</div>"
            ],
            "text/plain": [
              "      Median temperature anomaly from 1961-1990 average\n",
              "Year                                                   \n",
              "1990                                              0.296\n",
              "1991                                              0.254\n",
              "1992                                              0.105\n",
              "1993                                              0.148\n",
              "1994                                              0.208\n",
              "1995                                              0.325\n",
              "1996                                              0.183\n",
              "1997                                              0.390\n",
              "1998                                              0.539\n",
              "1999                                              0.306\n",
              "2000                                              0.294\n",
              "2001                                              0.441\n",
              "2002                                              0.496\n",
              "2003                                              0.505\n",
              "2004                                              0.447\n",
              "2005                                              0.545\n",
              "2006                                              0.506\n",
              "2007                                              0.491\n",
              "2008                                              0.395\n",
              "2009                                              0.506\n",
              "2010                                              0.560\n",
              "2011                                              0.425\n",
              "2012                                              0.470\n",
              "2013                                              0.514\n",
              "2014                                              0.579\n",
              "2015                                              0.763\n",
              "2016                                              0.797\n",
              "2017                                              0.677\n",
              "2018                                              0.597\n",
              "2019                                              0.736"
            ]
          },
          "metadata": {
            "tags": []
          },
          "execution_count": 2
        }
      ]
    },
    {
      "cell_type": "code",
      "metadata": {
        "colab": {
          "base_uri": "https://localhost:8080/",
          "height": 450
        },
        "id": "yZvTbT58h9wZ",
        "outputId": "91f93c2a-2ef2-4abb-8ab1-3c3d3fe98130"
      },
      "source": [
        "ghg = pd.read_csv(\"ghg-emissions-by-sector.csv\")\n",
        "nombres_columnas = list(ghg.columns)\n",
        "imputer = KNNImputer(n_neighbors=4, weights=\"uniform\")\n",
        "data = pd.DataFrame(data=imputer.fit_transform(ghg.drop(['Entity','Code','Year'],1)),columns=nombres_columnas[3:])\n",
        "ghg = pd.concat([ghg['Year'], data], axis=1, sort=False)\n",
        "ghg = ghg.sort_values('Year')\n",
        "ghg = ghg.groupby(['Year']).sum()\n",
        "ghg['Total'] = ghg['Agriculture (GHG Emissions, CAIT)'] + ghg['Bunker Fuels (GHG Emissions, CAIT)'] + ghg['Industry (GHG Emissions, CAIT)'] + ghg['Land-Use Change and Forestry (GHG Emissions, CAIT)'] + ghg['Waste (GHG Emissions, CAIT)'] + ghg['Buildings (GHG Emissions, CAIT)'] + ghg['Electricity & Heat (GHG Emissions, CAIT)'] + ghg['Fugitive from energy production (GHG Emissions, CAIT)'] + ghg['Manufacturing/Construction energy (GHG Emissions, CAIT)'] + ghg['Other Fuel Combustion (GHG Emissions, CAIT)'] + ghg['Transport (GHG Emissions, CAIT)']\n",
        "ghg['Total'] = (ghg['Total']-ghg['Total'].mean())/ghg['Total'].std()\n",
        "result = pd.concat([temperatura, ghg], axis=1, sort=False)\n",
        "result['Year'] = result.index\n",
        "nombres_columnas = list(result.columns)\n",
        "for i in range(81):\n",
        "  result.at[2020 + i,'Year'] = 2020 + i\n",
        "result = result.drop(nombres_columnas[1:-2],1)\n",
        "result"
      ],
      "execution_count": 3,
      "outputs": [
        {
          "output_type": "execute_result",
          "data": {
            "text/html": [
              "<div>\n",
              "<style scoped>\n",
              "    .dataframe tbody tr th:only-of-type {\n",
              "        vertical-align: middle;\n",
              "    }\n",
              "\n",
              "    .dataframe tbody tr th {\n",
              "        vertical-align: top;\n",
              "    }\n",
              "\n",
              "    .dataframe thead th {\n",
              "        text-align: right;\n",
              "    }\n",
              "</style>\n",
              "<table border=\"1\" class=\"dataframe\">\n",
              "  <thead>\n",
              "    <tr style=\"text-align: right;\">\n",
              "      <th></th>\n",
              "      <th>Median temperature anomaly from 1961-1990 average</th>\n",
              "      <th>Total</th>\n",
              "      <th>Year</th>\n",
              "    </tr>\n",
              "    <tr>\n",
              "      <th>Year</th>\n",
              "      <th></th>\n",
              "      <th></th>\n",
              "      <th></th>\n",
              "    </tr>\n",
              "  </thead>\n",
              "  <tbody>\n",
              "    <tr>\n",
              "      <th>1990</th>\n",
              "      <td>0.296</td>\n",
              "      <td>-1.193332</td>\n",
              "      <td>1990.0</td>\n",
              "    </tr>\n",
              "    <tr>\n",
              "      <th>1991</th>\n",
              "      <td>0.254</td>\n",
              "      <td>-1.170972</td>\n",
              "      <td>1991.0</td>\n",
              "    </tr>\n",
              "    <tr>\n",
              "      <th>1992</th>\n",
              "      <td>0.105</td>\n",
              "      <td>-1.202903</td>\n",
              "      <td>1992.0</td>\n",
              "    </tr>\n",
              "    <tr>\n",
              "      <th>1993</th>\n",
              "      <td>0.148</td>\n",
              "      <td>-1.194477</td>\n",
              "      <td>1993.0</td>\n",
              "    </tr>\n",
              "    <tr>\n",
              "      <th>1994</th>\n",
              "      <td>0.208</td>\n",
              "      <td>-1.154909</td>\n",
              "      <td>1994.0</td>\n",
              "    </tr>\n",
              "    <tr>\n",
              "      <th>...</th>\n",
              "      <td>...</td>\n",
              "      <td>...</td>\n",
              "      <td>...</td>\n",
              "    </tr>\n",
              "    <tr>\n",
              "      <th>2096</th>\n",
              "      <td>NaN</td>\n",
              "      <td>NaN</td>\n",
              "      <td>2096.0</td>\n",
              "    </tr>\n",
              "    <tr>\n",
              "      <th>2097</th>\n",
              "      <td>NaN</td>\n",
              "      <td>NaN</td>\n",
              "      <td>2097.0</td>\n",
              "    </tr>\n",
              "    <tr>\n",
              "      <th>2098</th>\n",
              "      <td>NaN</td>\n",
              "      <td>NaN</td>\n",
              "      <td>2098.0</td>\n",
              "    </tr>\n",
              "    <tr>\n",
              "      <th>2099</th>\n",
              "      <td>NaN</td>\n",
              "      <td>NaN</td>\n",
              "      <td>2099.0</td>\n",
              "    </tr>\n",
              "    <tr>\n",
              "      <th>2100</th>\n",
              "      <td>NaN</td>\n",
              "      <td>NaN</td>\n",
              "      <td>2100.0</td>\n",
              "    </tr>\n",
              "  </tbody>\n",
              "</table>\n",
              "<p>111 rows × 3 columns</p>\n",
              "</div>"
            ],
            "text/plain": [
              "      Median temperature anomaly from 1961-1990 average     Total    Year\n",
              "Year                                                                     \n",
              "1990                                              0.296 -1.193332  1990.0\n",
              "1991                                              0.254 -1.170972  1991.0\n",
              "1992                                              0.105 -1.202903  1992.0\n",
              "1993                                              0.148 -1.194477  1993.0\n",
              "1994                                              0.208 -1.154909  1994.0\n",
              "...                                                 ...       ...     ...\n",
              "2096                                                NaN       NaN  2096.0\n",
              "2097                                                NaN       NaN  2097.0\n",
              "2098                                                NaN       NaN  2098.0\n",
              "2099                                                NaN       NaN  2099.0\n",
              "2100                                                NaN       NaN  2100.0\n",
              "\n",
              "[111 rows x 3 columns]"
            ]
          },
          "metadata": {
            "tags": []
          },
          "execution_count": 3
        }
      ]
    },
    {
      "cell_type": "markdown",
      "metadata": {
        "id": "K-SMrhGXj5sh"
      },
      "source": [
        "### Hacemos un analisis exploratorio de datos"
      ]
    },
    {
      "cell_type": "code",
      "metadata": {
        "colab": {
          "base_uri": "https://localhost:8080/",
          "height": 552
        },
        "id": "ZLw9YO5KiU0F",
        "outputId": "fed23f11-9811-47ec-dc02-37c99fa73cae"
      },
      "source": [
        "sns.heatmap(result.corr(),annot=True)"
      ],
      "execution_count": 4,
      "outputs": [
        {
          "output_type": "execute_result",
          "data": {
            "text/plain": [
              "<matplotlib.axes._subplots.AxesSubplot at 0x7f4d8c69d9b0>"
            ]
          },
          "metadata": {
            "tags": []
          },
          "execution_count": 4
        },
        {
          "output_type": "display_data",
          "data": {
            "image/png": "[encoded data removed]",
            "text/plain": [
              "<Figure size 432x288 with 2 Axes>"
            ]
          },
          "metadata": {
            "tags": [],
            "needs_background": "light"
          }
        }
      ]
    },
    {
      "cell_type": "code",
      "metadata": {
        "colab": {
          "base_uri": "https://localhost:8080/",
          "height": 281
        },
        "id": "19SmAnyNiXhb",
        "outputId": "a9a02111-d94d-46b6-c3ea-3b85256eb39f"
      },
      "source": [
        "data = result.iloc[0:22,:] # Data for modelling\n",
        "y = data['Total']\n",
        "x_1 = data['Year']\n",
        "\n",
        "# Plot outputs\n",
        "fig,ax = plt.subplots()\n",
        "ax.set_title(\"Año VS total de GHG\")\n",
        "ax.scatter(x_1, y,  color='red')\n",
        "\n",
        "\n",
        "plt.show()"
      ],
      "execution_count": 5,
      "outputs": [
        {
          "output_type": "display_data",
          "data": {
            "image/png": "[encoded data removed]",
            "text/plain": [
              "<Figure size 432x288 with 1 Axes>"
            ]
          },
          "metadata": {
            "tags": [],
            "needs_background": "light"
          }
        }
      ]
    },
    {
      "cell_type": "markdown",
      "metadata": {
        "id": "i1Ea0ElwkNNU"
      },
      "source": [
        "### Hacemos una regresion para estimar los GHG del 2020 al 2100"
      ]
    },
    {
      "cell_type": "code",
      "metadata": {
        "colab": {
          "base_uri": "https://localhost:8080/",
          "height": 312
        },
        "id": "PMaMA0Fwibui",
        "outputId": "3efb12f0-4f07-4060-ddd7-254104a1da2c"
      },
      "source": [
        "train = result.iloc[0:21,:] # Training set\n",
        "x_train = train['Year'] # Seleccionando la columna de Edad\n",
        "y_train = train['Total'] # Seleccionando la columna de Peso\n",
        "\n",
        "test = result.iloc[21:27,:] # Test set\n",
        "x_test = test['Year']\n",
        "y_test = test['Total']\n",
        "\n",
        "poly_fit = np.poly1d(np.polyfit(x_train,y_train, 2))\n",
        "\n",
        "y_pred = poly_fit(x_test)\n",
        "y1_pred = poly_fit(x_train)\n",
        "\n",
        "print('Mean squared error (over testing set): %.2f'\n",
        "      % mean_squared_error(y_test, y_pred))\n",
        "plt.plot(x_train, y1_pred, c='r',linestyle='-')\n",
        "plt.title('Regresion año vs GHG')\n",
        "plt.xlabel('year')\n",
        "plt.ylabel('GHG')\n",
        "plt.scatter(x_train, y_train)\n",
        "plt.show()"
      ],
      "execution_count": 6,
      "outputs": [
        {
          "output_type": "stream",
          "text": [
            "Mean squared error (over testing set): 0.40\n"
          ],
          "name": "stdout"
        },
        {
          "output_type": "display_data",
          "data": {
            "image/png": "[encoded data removed]",
            "text/plain": [
              "<Figure size 432x288 with 1 Axes>"
            ]
          },
          "metadata": {
            "tags": [],
            "needs_background": "light"
          }
        }
      ]
    },
    {
      "cell_type": "code",
      "metadata": {
        "colab": {
          "base_uri": "https://localhost:8080/"
        },
        "id": "Z7BtGgmRaWWQ",
        "outputId": "f89c1efd-83ce-4e4e-81ee-4286eb552161"
      },
      "source": [
        "poly_fit.c"
      ],
      "execution_count": 7,
      "outputs": [
        {
          "output_type": "execute_result",
          "data": {
            "text/plain": [
              "array([ 4.79352055e-03, -1.90564264e+01,  1.89382042e+04])"
            ]
          },
          "metadata": {
            "tags": []
          },
          "execution_count": 7
        }
      ]
    },
    {
      "cell_type": "code",
      "metadata": {
        "colab": {
          "base_uri": "https://localhost:8080/",
          "height": 295
        },
        "id": "bn8bvx64ifec",
        "outputId": "dbc51c46-a438-4f2b-e1d1-5fed8302c460"
      },
      "source": [
        "test = result.iloc[27:111,:] # Test set\n",
        "x_test = test['Year']\n",
        "valores_predc = list(poly_fit(x_test))\n",
        "result.at[2017,'Total'] = valores_predc[0]\n",
        "result.at[2018,'Total'] = valores_predc[1]\n",
        "result.at[2019,'Total'] = valores_predc[2]\n",
        "for i in range(81):  \n",
        "  result.at[2020 + i,'Total'] = valores_predc[i + 3]\n",
        "plt.title('Polynomial')\n",
        "plt.xlabel('year')\n",
        "plt.ylabel('GHG')\n",
        "plt.scatter(x_test, valores_predc, c='red')\n",
        "plt.scatter(result.iloc[0:27,:]['Year'], result.iloc[0:27,:]['Total'], c='blue')\n",
        "plt.show()"
      ],
      "execution_count": 8,
      "outputs": [
        {
          "output_type": "display_data",
          "data": {
            "image/png": "[encoded data removed]",
            "text/plain": [
              "<Figure size 432x288 with 1 Axes>"
            ]
          },
          "metadata": {
            "tags": [],
            "needs_background": "light"
          }
        }
      ]
    },
    {
      "cell_type": "markdown",
      "metadata": {
        "id": "gTzDuBEJkZc9"
      },
      "source": [
        "### Exploramos los datos de la temperatura vs el total de GHG y el año."
      ]
    },
    {
      "cell_type": "code",
      "metadata": {
        "colab": {
          "base_uri": "https://localhost:8080/",
          "height": 265
        },
        "id": "3a7y0p6xiz-9",
        "outputId": "6bd3c2c8-7274-41c5-b156-0ab6f8140c34"
      },
      "source": [
        "data = result.iloc[0:27,:] # Data for modelling\n",
        "x_1 = data['Total']\n",
        "x_4 = data['Year']\n",
        "y = data['Median temperature anomaly from 1961-1990 average']\n",
        "\n",
        "# Creating figure\n",
        "fig = plt.figure()\n",
        "ax = plt.axes(projection =\"3d\")\n",
        " \n",
        "# Creating plot\n",
        "ax.scatter3D(x_1, x_4, y, color = \"red\")\n",
        "plt.title(\"Temperatura vs total GHG vs Año\")"
      ],
      "execution_count": 9,
      "outputs": [
        {
          "output_type": "execute_result",
          "data": {
            "text/plain": [
              "Text(0.5, 0.92, 'Temperatura vs total GHG vs Año')"
            ]
          },
          "metadata": {
            "tags": []
          },
          "execution_count": 9
        },
        {
          "output_type": "display_data",
          "data": {
            "image/png": "[encoded data removed]",
            "text/plain": [
              "<Figure size 432x288 with 1 Axes>"
            ]
          },
          "metadata": {
            "tags": [],
            "needs_background": "light"
          }
        }
      ]
    },
    {
      "cell_type": "markdown",
      "metadata": {
        "id": "fWoQVPb2klq3"
      },
      "source": [
        "### Realizamos una regresion para estimar la cantidad de la temperatura de aqui al 2100"
      ]
    },
    {
      "cell_type": "code",
      "metadata": {
        "colab": {
          "base_uri": "https://localhost:8080/",
          "height": 299
        },
        "id": "hyadkDIWikA6",
        "outputId": "371e2668-940e-44ba-85fd-5a88dc4b18c8"
      },
      "source": [
        "train = result.iloc[0:21,:] # Training set\n",
        "x_train = train[['Total','Year']] # Seleccionando la columna de Edad\n",
        "y_train = train['Median temperature anomaly from 1961-1990 average'] # Seleccionando la columna de Peso\n",
        "\n",
        "test = result.iloc[21:27,:] # Test set\n",
        "x_test = test[['Total','Year']]\n",
        "y_test = test['Median temperature anomaly from 1961-1990 average']\n",
        "\n",
        "# Create linear regression object\n",
        "regr = linear_model.LinearRegression()\n",
        "\n",
        "# Train the model using the training sets\n",
        "regr.fit(x_train, y_train)\n",
        "\n",
        "# Make predictions using the testing set\n",
        "y_pred = regr.predict(x_test)\n",
        "y1_pred = regr.predict(x_train)\n",
        "\n",
        "# The coefficients\n",
        "print('Coefficients: \\n', regr.coef_)\n",
        "print('Mean squared error (over training set): %.2f'\n",
        "      % mean_squared_error(y_test, y_pred))\n",
        "\n",
        "# Creating plot\n",
        "# Creating figure\n",
        "fig = plt.figure()\n",
        "ax = plt.axes(projection =\"3d\")\n",
        "ax.scatter3D(x_train['Total'], x_train['Year'], y_train, color = \"red\")\n",
        "ax.scatter3D(x_train['Total'], x_train['Year'], y1_pred, color = \"blue\")\n",
        "plt.plot(x_train['Total'], x_train['Year'],y1_pred, color='blue')\n",
        "#ax.plot_trisurf(x_train['Total'], x_train['Year'], y1_pred)\n",
        "plt.title(\"Temperatura vs total GHG vs Año\")\n",
        "plt.show()"
      ],
      "execution_count": 10,
      "outputs": [
        {
          "output_type": "stream",
          "text": [
            "Coefficients: \n",
            " [0.02621639 0.01505445]\n",
            "Mean squared error (over training set): 0.01\n"
          ],
          "name": "stdout"
        },
        {
          "output_type": "display_data",
          "data": {
            "image/png": "[encoded data removed]",
            "text/plain": [
              "<Figure size 432x288 with 1 Axes>"
            ]
          },
          "metadata": {
            "tags": [],
            "needs_background": "light"
          }
        }
      ]
    },
    {
      "cell_type": "code",
      "metadata": {
        "colab": {
          "base_uri": "https://localhost:8080/",
          "height": 295
        },
        "id": "H0AK9o5giwLt",
        "outputId": "ec905190-4617-407b-fbe2-eed553941746"
      },
      "source": [
        "test = result.iloc[30:115,:] \n",
        "x_test = test[['Total','Year']]\n",
        "valores_predcc = list(regr.predict(x_test))\n",
        "for i in range(81):  \n",
        "  result.at[2020 + i,'Median temperature anomaly from 1961-1990 average'] = abs(valores_predcc[i])\n",
        "\n",
        "plt.title('Polynomial')\n",
        "plt.xlabel('year')\n",
        "plt.ylabel('Temp')\n",
        "plt.scatter(x_test['Year'], [x for x in valores_predcc], c='red')\n",
        "plt.show()"
      ],
      "execution_count": 11,
      "outputs": [
        {
          "output_type": "display_data",
          "data": {
            "image/png": "[encoded data removed]",
            "text/plain": [
              "<Figure size 432x288 with 1 Axes>"
            ]
          },
          "metadata": {
            "tags": [],
            "needs_background": "light"
          }
        }
      ]
    },
    {
      "cell_type": "code",
      "metadata": {
        "colab": {
          "base_uri": "https://localhost:8080/",
          "height": 450
        },
        "id": "PhBvm7W7i7o9",
        "outputId": "a6002851-6273-4067-b9d8-53cb2acf0e08"
      },
      "source": [
        "result"
      ],
      "execution_count": 12,
      "outputs": [
        {
          "output_type": "execute_result",
          "data": {
            "text/html": [
              "<div>\n",
              "<style scoped>\n",
              "    .dataframe tbody tr th:only-of-type {\n",
              "        vertical-align: middle;\n",
              "    }\n",
              "\n",
              "    .dataframe tbody tr th {\n",
              "        vertical-align: top;\n",
              "    }\n",
              "\n",
              "    .dataframe thead th {\n",
              "        text-align: right;\n",
              "    }\n",
              "</style>\n",
              "<table border=\"1\" class=\"dataframe\">\n",
              "  <thead>\n",
              "    <tr style=\"text-align: right;\">\n",
              "      <th></th>\n",
              "      <th>Median temperature anomaly from 1961-1990 average</th>\n",
              "      <th>Total</th>\n",
              "      <th>Year</th>\n",
              "    </tr>\n",
              "    <tr>\n",
              "      <th>Year</th>\n",
              "      <th></th>\n",
              "      <th></th>\n",
              "      <th></th>\n",
              "    </tr>\n",
              "  </thead>\n",
              "  <tbody>\n",
              "    <tr>\n",
              "      <th>1990</th>\n",
              "      <td>0.296000</td>\n",
              "      <td>-1.193332</td>\n",
              "      <td>1990.0</td>\n",
              "    </tr>\n",
              "    <tr>\n",
              "      <th>1991</th>\n",
              "      <td>0.254000</td>\n",
              "      <td>-1.170972</td>\n",
              "      <td>1991.0</td>\n",
              "    </tr>\n",
              "    <tr>\n",
              "      <th>1992</th>\n",
              "      <td>0.105000</td>\n",
              "      <td>-1.202903</td>\n",
              "      <td>1992.0</td>\n",
              "    </tr>\n",
              "    <tr>\n",
              "      <th>1993</th>\n",
              "      <td>0.148000</td>\n",
              "      <td>-1.194477</td>\n",
              "      <td>1993.0</td>\n",
              "    </tr>\n",
              "    <tr>\n",
              "      <th>1994</th>\n",
              "      <td>0.208000</td>\n",
              "      <td>-1.154909</td>\n",
              "      <td>1994.0</td>\n",
              "    </tr>\n",
              "    <tr>\n",
              "      <th>...</th>\n",
              "      <td>...</td>\n",
              "      <td>...</td>\n",
              "      <td>...</td>\n",
              "    </tr>\n",
              "    <tr>\n",
              "      <th>2096</th>\n",
              "      <td>3.272991</td>\n",
              "      <td>54.905641</td>\n",
              "      <td>2096.0</td>\n",
              "    </tr>\n",
              "    <tr>\n",
              "      <th>2097</th>\n",
              "      <td>3.315384</td>\n",
              "      <td>55.948446</td>\n",
              "      <td>2097.0</td>\n",
              "    </tr>\n",
              "    <tr>\n",
              "      <th>2098</th>\n",
              "      <td>3.358029</td>\n",
              "      <td>57.000838</td>\n",
              "      <td>2098.0</td>\n",
              "    </tr>\n",
              "    <tr>\n",
              "      <th>2099</th>\n",
              "      <td>3.400924</td>\n",
              "      <td>58.062818</td>\n",
              "      <td>2099.0</td>\n",
              "    </tr>\n",
              "    <tr>\n",
              "      <th>2100</th>\n",
              "      <td>3.444071</td>\n",
              "      <td>59.134384</td>\n",
              "      <td>2100.0</td>\n",
              "    </tr>\n",
              "  </tbody>\n",
              "</table>\n",
              "<p>111 rows × 3 columns</p>\n",
              "</div>"
            ],
            "text/plain": [
              "      Median temperature anomaly from 1961-1990 average      Total    Year\n",
              "Year                                                                      \n",
              "1990                                           0.296000  -1.193332  1990.0\n",
              "1991                                           0.254000  -1.170972  1991.0\n",
              "1992                                           0.105000  -1.202903  1992.0\n",
              "1993                                           0.148000  -1.194477  1993.0\n",
              "1994                                           0.208000  -1.154909  1994.0\n",
              "...                                                 ...        ...     ...\n",
              "2096                                           3.272991  54.905641  2096.0\n",
              "2097                                           3.315384  55.948446  2097.0\n",
              "2098                                           3.358029  57.000838  2098.0\n",
              "2099                                           3.400924  58.062818  2099.0\n",
              "2100                                           3.444071  59.134384  2100.0\n",
              "\n",
              "[111 rows x 3 columns]"
            ]
          },
          "metadata": {
            "tags": []
          },
          "execution_count": 12
        }
      ]
    },
    {
      "cell_type": "markdown",
      "metadata": {
        "id": "MRao7WUskw1A"
      },
      "source": [
        "### Usando el modelo anterior realizamos estimaciones de la temperatura dadas ciertas acciones"
      ]
    },
    {
      "cell_type": "code",
      "metadata": {
        "colab": {
          "base_uri": "https://localhost:8080/",
          "height": 295
        },
        "id": "xj_a4Gy9jESH",
        "outputId": "ed6e7229-8b07-44bb-c71b-1315aed72d9c"
      },
      "source": [
        "test = result.iloc[30:115,:] \n",
        "x_test = test[['Total','Year']]\n",
        "for i in range(81):  \n",
        "  result.at[2020 + i,'Total'] = (result.at[2020 + i,'Total']) - ((0.0075)*result.at[2020 + i,'Total'])\n",
        "valores_predcc = list(regr.predict(x_test))\n",
        "\n",
        "for i in range(81):  \n",
        "  result.at[2020 + i,'Median temperature anomaly from 1961-1990 average'] = valores_predcc[i]\n",
        "\n",
        "plt.title('Consumo local')\n",
        "plt.xlabel('year')\n",
        "plt.ylabel('Temp')\n",
        "plt.scatter(x_test['Year'], [abs(x) for x in valores_predcc], c='red')\n",
        "plt.show()"
      ],
      "execution_count": 13,
      "outputs": [
        {
          "output_type": "display_data",
          "data": {
            "image/png": "[encoded data removed]",
            "text/plain": [
              "<Figure size 432x288 with 1 Axes>"
            ]
          },
          "metadata": {
            "tags": [],
            "needs_background": "light"
          }
        }
      ]
    },
    {
      "cell_type": "code",
      "metadata": {
        "colab": {
          "base_uri": "https://localhost:8080/",
          "height": 450
        },
        "id": "DZKWYgCvY5tb",
        "outputId": "d5d9ec3a-40be-4170-ad5d-b58f97b9eaf5"
      },
      "source": [
        "result"
      ],
      "execution_count": 14,
      "outputs": [
        {
          "output_type": "execute_result",
          "data": {
            "text/html": [
              "<div>\n",
              "<style scoped>\n",
              "    .dataframe tbody tr th:only-of-type {\n",
              "        vertical-align: middle;\n",
              "    }\n",
              "\n",
              "    .dataframe tbody tr th {\n",
              "        vertical-align: top;\n",
              "    }\n",
              "\n",
              "    .dataframe thead th {\n",
              "        text-align: right;\n",
              "    }\n",
              "</style>\n",
              "<table border=\"1\" class=\"dataframe\">\n",
              "  <thead>\n",
              "    <tr style=\"text-align: right;\">\n",
              "      <th></th>\n",
              "      <th>Median temperature anomaly from 1961-1990 average</th>\n",
              "      <th>Total</th>\n",
              "      <th>Year</th>\n",
              "    </tr>\n",
              "    <tr>\n",
              "      <th>Year</th>\n",
              "      <th></th>\n",
              "      <th></th>\n",
              "      <th></th>\n",
              "    </tr>\n",
              "  </thead>\n",
              "  <tbody>\n",
              "    <tr>\n",
              "      <th>1990</th>\n",
              "      <td>0.296000</td>\n",
              "      <td>-1.193332</td>\n",
              "      <td>1990.0</td>\n",
              "    </tr>\n",
              "    <tr>\n",
              "      <th>1991</th>\n",
              "      <td>0.254000</td>\n",
              "      <td>-1.170972</td>\n",
              "      <td>1991.0</td>\n",
              "    </tr>\n",
              "    <tr>\n",
              "      <th>1992</th>\n",
              "      <td>0.105000</td>\n",
              "      <td>-1.202903</td>\n",
              "      <td>1992.0</td>\n",
              "    </tr>\n",
              "    <tr>\n",
              "      <th>1993</th>\n",
              "      <td>0.148000</td>\n",
              "      <td>-1.194477</td>\n",
              "      <td>1993.0</td>\n",
              "    </tr>\n",
              "    <tr>\n",
              "      <th>1994</th>\n",
              "      <td>0.208000</td>\n",
              "      <td>-1.154909</td>\n",
              "      <td>1994.0</td>\n",
              "    </tr>\n",
              "    <tr>\n",
              "      <th>...</th>\n",
              "      <td>...</td>\n",
              "      <td>...</td>\n",
              "      <td>...</td>\n",
              "    </tr>\n",
              "    <tr>\n",
              "      <th>2096</th>\n",
              "      <td>3.272991</td>\n",
              "      <td>54.493849</td>\n",
              "      <td>2096.0</td>\n",
              "    </tr>\n",
              "    <tr>\n",
              "      <th>2097</th>\n",
              "      <td>3.315384</td>\n",
              "      <td>55.528833</td>\n",
              "      <td>2097.0</td>\n",
              "    </tr>\n",
              "    <tr>\n",
              "      <th>2098</th>\n",
              "      <td>3.358029</td>\n",
              "      <td>56.573332</td>\n",
              "      <td>2098.0</td>\n",
              "    </tr>\n",
              "    <tr>\n",
              "      <th>2099</th>\n",
              "      <td>3.400924</td>\n",
              "      <td>57.627347</td>\n",
              "      <td>2099.0</td>\n",
              "    </tr>\n",
              "    <tr>\n",
              "      <th>2100</th>\n",
              "      <td>3.444071</td>\n",
              "      <td>58.690876</td>\n",
              "      <td>2100.0</td>\n",
              "    </tr>\n",
              "  </tbody>\n",
              "</table>\n",
              "<p>111 rows × 3 columns</p>\n",
              "</div>"
            ],
            "text/plain": [
              "      Median temperature anomaly from 1961-1990 average      Total    Year\n",
              "Year                                                                      \n",
              "1990                                           0.296000  -1.193332  1990.0\n",
              "1991                                           0.254000  -1.170972  1991.0\n",
              "1992                                           0.105000  -1.202903  1992.0\n",
              "1993                                           0.148000  -1.194477  1993.0\n",
              "1994                                           0.208000  -1.154909  1994.0\n",
              "...                                                 ...        ...     ...\n",
              "2096                                           3.272991  54.493849  2096.0\n",
              "2097                                           3.315384  55.528833  2097.0\n",
              "2098                                           3.358029  56.573332  2098.0\n",
              "2099                                           3.400924  57.627347  2099.0\n",
              "2100                                           3.444071  58.690876  2100.0\n",
              "\n",
              "[111 rows x 3 columns]"
            ]
          },
          "metadata": {
            "tags": []
          },
          "execution_count": 14
        }
      ]
    },
    {
      "cell_type": "code",
      "metadata": {
        "colab": {
          "base_uri": "https://localhost:8080/",
          "height": 295
        },
        "id": "7QCN2A80jOW4",
        "outputId": "ffe92584-3345-44d6-8ba4-c09e7e3989ae"
      },
      "source": [
        "test = result.iloc[30:115,:] \n",
        "x_test = test[['Total','Year']]\n",
        "for i in range(81):  \n",
        "  result.at[2020 + i,'Total'] = (result.at[2020 + i,'Total']) - ((.03)*result.at[2020 + i,'Total'])\n",
        "valores_predcc = list(regr.predict(x_test))\n",
        "\n",
        "for i in range(81):  \n",
        "  result.at[2020 + i,'Median temperature anomaly from 1961-1990 average'] = valores_predcc[i]\n",
        "\n",
        "plt.title('Reduccion desperdicio + cosas locales')\n",
        "plt.xlabel('year')\n",
        "plt.ylabel('Temp')\n",
        "plt.scatter(x_test['Year'], [abs(x) for x in valores_predcc], c='red')\n",
        "plt.show()"
      ],
      "execution_count": 15,
      "outputs": [
        {
          "output_type": "display_data",
          "data": {
            "image/png": "[encoded data removed]",
            "text/plain": [
              "<Figure size 432x288 with 1 Axes>"
            ]
          },
          "metadata": {
            "tags": [],
            "needs_background": "light"
          }
        }
      ]
    },
    {
      "cell_type": "code",
      "metadata": {
        "colab": {
          "base_uri": "https://localhost:8080/",
          "height": 450
        },
        "id": "hSElHwIFjZle",
        "outputId": "198fd588-ba24-489a-c45d-14f03be478ea"
      },
      "source": [
        "result"
      ],
      "execution_count": 16,
      "outputs": [
        {
          "output_type": "execute_result",
          "data": {
            "text/html": [
              "<div>\n",
              "<style scoped>\n",
              "    .dataframe tbody tr th:only-of-type {\n",
              "        vertical-align: middle;\n",
              "    }\n",
              "\n",
              "    .dataframe tbody tr th {\n",
              "        vertical-align: top;\n",
              "    }\n",
              "\n",
              "    .dataframe thead th {\n",
              "        text-align: right;\n",
              "    }\n",
              "</style>\n",
              "<table border=\"1\" class=\"dataframe\">\n",
              "  <thead>\n",
              "    <tr style=\"text-align: right;\">\n",
              "      <th></th>\n",
              "      <th>Median temperature anomaly from 1961-1990 average</th>\n",
              "      <th>Total</th>\n",
              "      <th>Year</th>\n",
              "    </tr>\n",
              "    <tr>\n",
              "      <th>Year</th>\n",
              "      <th></th>\n",
              "      <th></th>\n",
              "      <th></th>\n",
              "    </tr>\n",
              "  </thead>\n",
              "  <tbody>\n",
              "    <tr>\n",
              "      <th>1990</th>\n",
              "      <td>0.296000</td>\n",
              "      <td>-1.193332</td>\n",
              "      <td>1990.0</td>\n",
              "    </tr>\n",
              "    <tr>\n",
              "      <th>1991</th>\n",
              "      <td>0.254000</td>\n",
              "      <td>-1.170972</td>\n",
              "      <td>1991.0</td>\n",
              "    </tr>\n",
              "    <tr>\n",
              "      <th>1992</th>\n",
              "      <td>0.105000</td>\n",
              "      <td>-1.202903</td>\n",
              "      <td>1992.0</td>\n",
              "    </tr>\n",
              "    <tr>\n",
              "      <th>1993</th>\n",
              "      <td>0.148000</td>\n",
              "      <td>-1.194477</td>\n",
              "      <td>1993.0</td>\n",
              "    </tr>\n",
              "    <tr>\n",
              "      <th>1994</th>\n",
              "      <td>0.208000</td>\n",
              "      <td>-1.154909</td>\n",
              "      <td>1994.0</td>\n",
              "    </tr>\n",
              "    <tr>\n",
              "      <th>...</th>\n",
              "      <td>...</td>\n",
              "      <td>...</td>\n",
              "      <td>...</td>\n",
              "    </tr>\n",
              "    <tr>\n",
              "      <th>2096</th>\n",
              "      <td>3.262195</td>\n",
              "      <td>52.859033</td>\n",
              "      <td>2096.0</td>\n",
              "    </tr>\n",
              "    <tr>\n",
              "      <th>2097</th>\n",
              "      <td>3.304383</td>\n",
              "      <td>53.862968</td>\n",
              "      <td>2097.0</td>\n",
              "    </tr>\n",
              "    <tr>\n",
              "      <th>2098</th>\n",
              "      <td>3.346821</td>\n",
              "      <td>54.876132</td>\n",
              "      <td>2098.0</td>\n",
              "    </tr>\n",
              "    <tr>\n",
              "      <th>2099</th>\n",
              "      <td>3.389508</td>\n",
              "      <td>55.898526</td>\n",
              "      <td>2099.0</td>\n",
              "    </tr>\n",
              "    <tr>\n",
              "      <th>2100</th>\n",
              "      <td>3.432444</td>\n",
              "      <td>56.930150</td>\n",
              "      <td>2100.0</td>\n",
              "    </tr>\n",
              "  </tbody>\n",
              "</table>\n",
              "<p>111 rows × 3 columns</p>\n",
              "</div>"
            ],
            "text/plain": [
              "      Median temperature anomaly from 1961-1990 average      Total    Year\n",
              "Year                                                                      \n",
              "1990                                           0.296000  -1.193332  1990.0\n",
              "1991                                           0.254000  -1.170972  1991.0\n",
              "1992                                           0.105000  -1.202903  1992.0\n",
              "1993                                           0.148000  -1.194477  1993.0\n",
              "1994                                           0.208000  -1.154909  1994.0\n",
              "...                                                 ...        ...     ...\n",
              "2096                                           3.262195  52.859033  2096.0\n",
              "2097                                           3.304383  53.862968  2097.0\n",
              "2098                                           3.346821  54.876132  2098.0\n",
              "2099                                           3.389508  55.898526  2099.0\n",
              "2100                                           3.432444  56.930150  2100.0\n",
              "\n",
              "[111 rows x 3 columns]"
            ]
          },
          "metadata": {
            "tags": []
          },
          "execution_count": 16
        }
      ]
    },
    {
      "cell_type": "code",
      "metadata": {
        "colab": {
          "base_uri": "https://localhost:8080/",
          "height": 295
        },
        "id": "cR0D_0nZqVjE",
        "outputId": "b4b93f56-bf7c-43c9-eb5d-1ed6e5d8a337"
      },
      "source": [
        "test = result.iloc[30:115,:] \n",
        "x_test = test[['Total','Year']]\n",
        "for i in range(81):  \n",
        "  result.at[2020 + i,'Total'] = (result.at[2020 + i,'Total']) - ((.05)*result.at[2020 + i,'Total'])\n",
        "valores_predcc = list(regr.predict(x_test))\n",
        "\n",
        "for i in range(81):  \n",
        "  result.at[2020 + i,'Median temperature anomaly from 1961-1990 average'] = valores_predcc[i]\n",
        "\n",
        "plt.title('Reduccion desperdicio + cosas locales + comer pollo, huevo, pescado en vez de res una vez a la semana')\n",
        "plt.xlabel('year')\n",
        "plt.ylabel('Temp')\n",
        "plt.scatter(x_test['Year'], [abs(x) for x in valores_predcc], c='red')\n",
        "plt.show()"
      ],
      "execution_count": 17,
      "outputs": [
        {
          "output_type": "display_data",
          "data": {
            "image/png": "[encoded data removed]",
            "text/plain": [
              "<Figure size 432x288 with 1 Axes>"
            ]
          },
          "metadata": {
            "tags": [],
            "needs_background": "light"
          }
        }
      ]
    },
    {
      "cell_type": "markdown",
      "metadata": {
        "id": "Y1OR48XTlJdZ"
      },
      "source": [
        "### Resultado"
      ]
    },
    {
      "cell_type": "code",
      "metadata": {
        "colab": {
          "base_uri": "https://localhost:8080/",
          "height": 450
        },
        "id": "2vnG6xyGw1_E",
        "outputId": "db52ea6b-8fbc-4c19-c891-b22412a926a7"
      },
      "source": [
        "result"
      ],
      "execution_count": 18,
      "outputs": [
        {
          "output_type": "execute_result",
          "data": {
            "text/html": [
              "<div>\n",
              "<style scoped>\n",
              "    .dataframe tbody tr th:only-of-type {\n",
              "        vertical-align: middle;\n",
              "    }\n",
              "\n",
              "    .dataframe tbody tr th {\n",
              "        vertical-align: top;\n",
              "    }\n",
              "\n",
              "    .dataframe thead th {\n",
              "        text-align: right;\n",
              "    }\n",
              "</style>\n",
              "<table border=\"1\" class=\"dataframe\">\n",
              "  <thead>\n",
              "    <tr style=\"text-align: right;\">\n",
              "      <th></th>\n",
              "      <th>Median temperature anomaly from 1961-1990 average</th>\n",
              "      <th>Total</th>\n",
              "      <th>Year</th>\n",
              "    </tr>\n",
              "    <tr>\n",
              "      <th>Year</th>\n",
              "      <th></th>\n",
              "      <th></th>\n",
              "      <th></th>\n",
              "    </tr>\n",
              "  </thead>\n",
              "  <tbody>\n",
              "    <tr>\n",
              "      <th>1990</th>\n",
              "      <td>0.296000</td>\n",
              "      <td>-1.193332</td>\n",
              "      <td>1990.0</td>\n",
              "    </tr>\n",
              "    <tr>\n",
              "      <th>1991</th>\n",
              "      <td>0.254000</td>\n",
              "      <td>-1.170972</td>\n",
              "      <td>1991.0</td>\n",
              "    </tr>\n",
              "    <tr>\n",
              "      <th>1992</th>\n",
              "      <td>0.105000</td>\n",
              "      <td>-1.202903</td>\n",
              "      <td>1992.0</td>\n",
              "    </tr>\n",
              "    <tr>\n",
              "      <th>1993</th>\n",
              "      <td>0.148000</td>\n",
              "      <td>-1.194477</td>\n",
              "      <td>1993.0</td>\n",
              "    </tr>\n",
              "    <tr>\n",
              "      <th>1994</th>\n",
              "      <td>0.208000</td>\n",
              "      <td>-1.154909</td>\n",
              "      <td>1994.0</td>\n",
              "    </tr>\n",
              "    <tr>\n",
              "      <th>...</th>\n",
              "      <td>...</td>\n",
              "      <td>...</td>\n",
              "      <td>...</td>\n",
              "    </tr>\n",
              "    <tr>\n",
              "      <th>2096</th>\n",
              "      <td>3.219336</td>\n",
              "      <td>50.216081</td>\n",
              "      <td>2096.0</td>\n",
              "    </tr>\n",
              "    <tr>\n",
              "      <th>2097</th>\n",
              "      <td>3.260710</td>\n",
              "      <td>51.169819</td>\n",
              "      <td>2097.0</td>\n",
              "    </tr>\n",
              "    <tr>\n",
              "      <th>2098</th>\n",
              "      <td>3.302326</td>\n",
              "      <td>52.132326</td>\n",
              "      <td>2098.0</td>\n",
              "    </tr>\n",
              "    <tr>\n",
              "      <th>2099</th>\n",
              "      <td>3.344184</td>\n",
              "      <td>53.103600</td>\n",
              "      <td>2099.0</td>\n",
              "    </tr>\n",
              "    <tr>\n",
              "      <th>2100</th>\n",
              "      <td>3.386284</td>\n",
              "      <td>54.083643</td>\n",
              "      <td>2100.0</td>\n",
              "    </tr>\n",
              "  </tbody>\n",
              "</table>\n",
              "<p>111 rows × 3 columns</p>\n",
              "</div>"
            ],
            "text/plain": [
              "      Median temperature anomaly from 1961-1990 average      Total    Year\n",
              "Year                                                                      \n",
              "1990                                           0.296000  -1.193332  1990.0\n",
              "1991                                           0.254000  -1.170972  1991.0\n",
              "1992                                           0.105000  -1.202903  1992.0\n",
              "1993                                           0.148000  -1.194477  1993.0\n",
              "1994                                           0.208000  -1.154909  1994.0\n",
              "...                                                 ...        ...     ...\n",
              "2096                                           3.219336  50.216081  2096.0\n",
              "2097                                           3.260710  51.169819  2097.0\n",
              "2098                                           3.302326  52.132326  2098.0\n",
              "2099                                           3.344184  53.103600  2099.0\n",
              "2100                                           3.386284  54.083643  2100.0\n",
              "\n",
              "[111 rows x 3 columns]"
            ]
          },
          "metadata": {
            "tags": []
          },
          "execution_count": 18
        }
      ]
    }
  ]
}